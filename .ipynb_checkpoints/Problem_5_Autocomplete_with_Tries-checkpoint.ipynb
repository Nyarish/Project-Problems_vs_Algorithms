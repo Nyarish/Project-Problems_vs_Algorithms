{
 "cells": [
  {
   "cell_type": "markdown",
   "metadata": {},
   "source": [
    "# Building a Trie in Python\n",
    "\n",
    "Before we start let us reiterate the key components of a Trie or Prefix Tree. A trie is a tree-like data structure that stores a dynamic set of strings. Tries are commonly used to facilitate operations like predictive text or autocomplete features on mobile phones or web search.\n",
    "\n",
    "Before we move into the autocomplete function we need to create a working trie for storing strings.  We will create two classes:\n",
    "* A `Trie` class that contains the root node (empty string)\n",
    "* A `TrieNode` class that exposes the general functionality of the Trie, like inserting a word or finding the node which represents a prefix.\n",
    "\n",
    "Give it a try by implementing the `TrieNode` and `Trie` classes below!"
   ]
  },
  {
   "cell_type": "code",
   "execution_count": 1,
   "metadata": {},
   "outputs": [],
   "source": [
    "## Represents a single node in the Trie\n",
    "class TrieNode:\n",
    "    def __init__(self):\n",
    "        ## Initialize this node in the Trie\n",
    "        self.is_word = False\n",
    "        self.children = {}\n",
    "    \n",
    "    def insert(self, char):\n",
    "        ## Add a child node in this Trie\n",
    "        self.children[char] = TrieNode()\n",
    "        \n",
    "    def find_words(self, prefix):\n",
    "        \"\"\"Find all words starting with given prefix\"\"\"\n",
    "        matches = []\n",
    "        if self.is_word:\n",
    "            matches += [prefix]\n",
    "        for (char, node) in self.children.items():\n",
    "            matches += node.find_words(prefix + char)\n",
    "\n",
    "        return matches\n",
    "        \n",
    "## The Trie itself containing the root node and insert/find functions\n",
    "class Trie:\n",
    "    def __init__(self):\n",
    "        ## Initialize this Trie (add a root node)\n",
    "        self.root = TrieNode()\n",
    "\n",
    "    def insert(self, word):\n",
    "        # Add a word to the Trie\n",
    "        current_node = self.root\n",
    "\n",
    "        for char in word:\n",
    "            if char not in current_node.children:\n",
    "                current_node.insert(char)\n",
    "            current_node = current_node.children[char]\n",
    "        current_node.is_word = True\n",
    "\n",
    "    def find(self, prefix):\n",
    "        # Find the Trie node that represents this prefix\n",
    "        node = self.root\n",
    "        for char in prefix:\n",
    "            if char in node.children:\n",
    "                node = node.children[char]\n",
    "            else:\n",
    "                return None\n",
    "        return node\n",
    "    \n",
    "    def match(self, prefix):\n",
    "        # Return all matching words in the tree\n",
    "        node = self.find(prefix)\n",
    "        if node:\n",
    "            return node.find_words(prefix)\n",
    "        else:\n",
    "            return []\n"
   ]
  },
  {
   "cell_type": "code",
   "execution_count": 2,
   "metadata": {},
   "outputs": [
    {
     "name": "stdout",
     "output_type": "stream",
     "text": [
      "['ant', 'anthology', 'antagonist', 'antonym', 'fun', 'function', 'factory', 'trie', 'trigger', 'trigonometry', 'tripod']\n",
      "['ant', 'anthology', 'antagonist', 'antonym']\n",
      "['anthology']\n",
      "['fun', 'function', 'factory']\n",
      "['fun', 'function']\n",
      "['function']\n",
      "['trie', 'trigger', 'trigonometry', 'tripod']\n",
      "['trigger', 'trigonometry']\n",
      "[]\n"
     ]
    }
   ],
   "source": [
    "MyTrie = Trie()\n",
    "wordList = [\n",
    "    \"ant\", \"anthology\", \"antagonist\", \"antonym\", \n",
    "    \"fun\", \"function\", \"factory\", \n",
    "    \"trie\", \"trigger\", \"trigonometry\", \"tripod\"\n",
    "]\n",
    "for word in wordList:\n",
    "    MyTrie.insert(word)\n",
    "    \n",
    "print(MyTrie.match(\"\"))  # Empty prefix - should return everything\n",
    "print(MyTrie.match(\"ant\"))\n",
    "print(MyTrie.match(\"anth\"))\n",
    "print(MyTrie.match(\"f\"))\n",
    "print(MyTrie.match(\"fu\"))\n",
    "print(MyTrie.match(\"func\"))\n",
    "print(MyTrie.match(\"tri\"))\n",
    "print(MyTrie.match(\"trig\"))\n",
    "print(MyTrie.match(\"b\"))  # Doesn't exist - should return empty list"
   ]
  },
  {
   "cell_type": "markdown",
   "metadata": {},
   "source": [
    "# Explanation_5: Autocomplete with Tries\n",
    "\n",
    "**Requirement:**\n",
    "\n",
    "To implement the autocomplete feature for words using `Trie` datastructure. For example, if our Trie contains the words `[\"fun\", \"function\", \"factory\"]` and we ask for suffixes from the `f` node, we would expect to receive `[\"un\", \"unction\", \"actory\"]`\n",
    "\n",
    "\n",
    "\n",
    "**Approach:**\n",
    "\n",
    "Implement a `Trie` datastructure with `insert` word, `find` prefix and, `match` prefix functionalities.  find_words function will find all words in a given prefix and return all matching words in a list format. Here is the [notebook](https://github.com/Nyarish/Project-Problems_vs_Algorithms/blob/master/Trie.ipynb) to the solution.\n",
    "\n",
    "\n",
    "\n",
    "**Complexity Analysis:**\n",
    "\n",
    "*Time complexity:* `O(n)`\n",
    "\n",
    "- Insert => `O(n)` where `n` is the length of the word\n",
    "- Find => `O(s)` where `s` is the length of the search string\n",
    "- Find_words => `O(t)` where `t` is the number of nodes in the trie. In the worst case, let us say when the search string is empty, we have to visit every node to build matching results (i.e., return all words).\n",
    "\n",
    "*Space complexity:* `O(n)\n",
    "\n",
    "- Insert => `O(n)` where `n` is the total number of nodes in a Trie. Initially, we expect Trie space to grow linearly with the input number of words but it will gradually decrease as new words are likely to overlap with the existing nodes.\n",
    "- Find_words => `O(n)` where `n` is the number of nodes in a Trie. For instance, if all words in a dictionary are starting with `a` and search string is also `a` then it has to visit every node which is a linear operation."
   ]
  },
  {
   "cell_type": "code",
   "execution_count": null,
   "metadata": {},
   "outputs": [],
   "source": []
  }
 ],
 "metadata": {
  "kernelspec": {
   "display_name": "Python 3",
   "language": "python",
   "name": "python3"
  },
  "language_info": {
   "codemirror_mode": {
    "name": "ipython",
    "version": 3
   },
   "file_extension": ".py",
   "mimetype": "text/x-python",
   "name": "python",
   "nbconvert_exporter": "python",
   "pygments_lexer": "ipython3",
   "version": "3.7.6"
  },
  "widgets": {
   "state": {},
   "version": "1.1.2"
  }
 },
 "nbformat": 4,
 "nbformat_minor": 2
}
