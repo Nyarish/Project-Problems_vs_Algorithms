{
 "cells": [
  {
   "cell_type": "code",
   "execution_count": 12,
   "metadata": {},
   "outputs": [
    {
     "name": "stdout",
     "output_type": "stream",
     "text": [
      "Test 1\n",
      "For three-way partitioning the Test Assumes zero-based array \n",
      "______________________________________________________________\n",
      "[0, 0, 0, 1, 1, 1, 2, 2, 2, 2, 2]\n",
      "Pass\n",
      "[0, 0, 0, 0, 0, 0, 0, 0, 0, 0, 0, 1, 1, 1, 1, 1, 1, 2, 2, 2, 2, 2, 2, 2, 2, 2]\n",
      "Pass\n",
      "[0, 0, 0, 0, 0, 0, 1, 1, 1, 1, 1, 1, 2, 2, 2, 2, 2, 2, 2]\n",
      "Pass\n",
      "\n",
      "Test 2\n",
      "[]\n",
      "Pass\n"
     ]
    }
   ],
   "source": [
    "\n",
    "\n",
    "def sort_012(input_list):\n",
    "    \"\"\"\n",
    "    Given an input array consisting on only 0, 1, and 2, sort the array in a single traversal.\n",
    "\n",
    "    Args:\n",
    "       input_list(list): List to be sorted\n",
    "       \n",
    "       \n",
    "    Complexity:\n",
    "        Time complexity: O(n)\n",
    "    Space complexity:\n",
    "        Input space => O(n)\n",
    "        Auxiliary space => O(1)\n",
    "        Total space => O(n + 1) => O(n)\n",
    "    \"\"\"\n",
    "    \n",
    "    low_idx = 0\n",
    "    mid = 0\n",
    "    high_idx = len(input_list) - 1\n",
    "    \n",
    "    # Base condition\n",
    "    while (mid <= high_idx):\n",
    "        \n",
    "        # if values is 0 perform a swap on the low and mid elements\n",
    "        if input_list[mid] == 0:\n",
    "            input_list[low_idx], input_list[mid] = input_list[mid], input_list[low_idx]\n",
    "            \n",
    "            low_idx += 1\n",
    "            mid += 1\n",
    "        # make 1 be the pole\n",
    "        elif input_list[mid] == 1:\n",
    "            \n",
    "            mid += 1\n",
    "        elif input_list[mid] == 2:\n",
    "            # if values is 2 perform a swap on the high and mid elements\n",
    "            input_list[high_idx], input_list[mid] = input_list[mid], input_list[high_idx]\n",
    "            high_idx -= 1  \n",
    "    \n",
    "    return input_list\n",
    "\n",
    "def test_function(test_case):\n",
    "    sorted_array = sort_012(test_case)\n",
    "    print(sorted_array)\n",
    "    if sorted_array == sorted(test_case):\n",
    "        print(\"Pass\")\n",
    "    else:\n",
    "        print(\"Fail\")\n",
    "\n",
    "        \n",
    "print('Test 1')        \n",
    "print('For three-way partitioning the Test Assumes zero-based array ')       \n",
    "print('______________________________________________________________')       \n",
    "\n",
    "test_function([0, 0, 2, 2, 2, 1, 1, 1, 2, 0, 2])\n",
    "test_function([2, 1, 2, 0, 0, 2, 1, 0, 1, 0, 0, 2, 2, 2, 1, 2, 0, 0, 0, 2, 1, 0, 2, 0, 0, 1])\n",
    "test_function([0, 0, 0, 0, 0, 0, 1, 1, 1, 1, 1, 1, 2, 2, 2, 2, 2, 2, 2])\n",
    "print()\n",
    "\n",
    "print('Test 2')\n",
    "\n",
    "test_function([])\n",
    "\n",
    "\n",
    "# References:\n",
    "# https://www.youtube.com/watch?v=BOt1DAvR0zI\n",
    "# https://en.wikipedia.org/wiki/Dutch_national_flag_problem#Pseudocode\n",
    "# https://github.com/suhassrivats"
   ]
  },
  {
   "cell_type": "code",
   "execution_count": null,
   "metadata": {},
   "outputs": [],
   "source": []
  }
 ],
 "metadata": {
  "kernelspec": {
   "display_name": "Python 3",
   "language": "python",
   "name": "python3"
  },
  "language_info": {
   "codemirror_mode": {
    "name": "ipython",
    "version": 3
   },
   "file_extension": ".py",
   "mimetype": "text/x-python",
   "name": "python",
   "nbconvert_exporter": "python",
   "pygments_lexer": "ipython3",
   "version": "3.7.6"
  }
 },
 "nbformat": 4,
 "nbformat_minor": 4
}
