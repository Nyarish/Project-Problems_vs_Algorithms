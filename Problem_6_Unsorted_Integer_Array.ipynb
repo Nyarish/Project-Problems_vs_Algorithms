{
 "cells": [
  {
   "cell_type": "code",
   "execution_count": 4,
   "metadata": {},
   "outputs": [
    {
     "name": "stdout",
     "output_type": "stream",
     "text": [
      "Test 1\n",
      "Pass\n",
      "\n",
      "Test 2: Edge cases\n",
      "Pass\n",
      "Pass\n",
      "Pass\n"
     ]
    }
   ],
   "source": [
    "\"\"\"\n",
    "In this problem, we will look for smallest and largest integer from a list of unsorted integers. \n",
    "The code should run in O(n) time. Do not use Python's inbuilt functions to find min and max.\n",
    "\n",
    "\n",
    "The approcah.\n",
    "\n",
    "Sorting usually requires O(n log n) time. In this solution takes the below complexity.\n",
    "\n",
    "Time complexity  => `O(n)` // iterate through each item in an array\n",
    "\n",
    "Space complexity:\n",
    "        - Input space => `O(n)`\n",
    "        - Auxiliary space => `O(1)`\n",
    "        - Total space => `O(n + 1)`  => `O(n)`\n",
    "\n",
    "\"\"\"\n",
    "\n",
    "\n",
    "def get_min_max(ints):\n",
    "    \"\"\"\n",
    "    Return a tuple(min, max) out of list of unsorted integers.\n",
    "\n",
    "    Args:\n",
    "       ints(list): list of integers containing one or more integers\n",
    "    \"\"\"\n",
    "    if len(ints) == 0:\n",
    "        return (None, None)\n",
    "\n",
    "    min_val = ints[0]\n",
    "    max_val = ints[0]\n",
    "\n",
    "    for num in ints:\n",
    "        # If minval is greater than current element, then update minval\n",
    "        if min_val > num:\n",
    "            min_val = num\n",
    "\n",
    "        # If maxval is less than current element, then update maxval\n",
    "        if max_val < num:\n",
    "            max_val = num\n",
    "\n",
    "    return (min_val, max_val)\n",
    "\n",
    "\n",
    "## Example Test Case of Ten Integers\n",
    "import random\n",
    "\n",
    "l = [i for i in range(0, 10)]  # a list containing 0 - 9\n",
    "random.shuffle(l)\n",
    "\n",
    "print('Test 1')\n",
    "print (\"Pass\" if ((0, 9) == get_min_max(l)) else \"Fail\")\n",
    "print()\n",
    "\n",
    "print('Test 2: Edge cases')\n",
    "print(\"Pass\" if ((2, 2) == get_min_max([2])) else \"Fail\")\n",
    "print(\"Pass\" if ((-1, 1) == get_min_max([1, -1])) else \"Fail\")\n",
    "print(\"Pass\" if ((None, None) == get_min_max([])) else \"Fail\")"
   ]
  },
  {
   "cell_type": "code",
   "execution_count": null,
   "metadata": {},
   "outputs": [],
   "source": []
  }
 ],
 "metadata": {
  "kernelspec": {
   "display_name": "Python 3",
   "language": "python",
   "name": "python3"
  },
  "language_info": {
   "codemirror_mode": {
    "name": "ipython",
    "version": 3
   },
   "file_extension": ".py",
   "mimetype": "text/x-python",
   "name": "python",
   "nbconvert_exporter": "python",
   "pygments_lexer": "ipython3",
   "version": "3.7.6"
  }
 },
 "nbformat": 4,
 "nbformat_minor": 4
}
